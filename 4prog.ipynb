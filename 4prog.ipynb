{
  "nbformat": 4,
  "nbformat_minor": 0,
  "metadata": {
    "colab": {
      "provenance": [],
      "authorship_tag": "ABX9TyPruYNkyFiw6/f/xxqUj0B1",
      "include_colab_link": true
    },
    "kernelspec": {
      "name": "python3",
      "display_name": "Python 3"
    },
    "language_info": {
      "name": "python"
    }
  },
  "cells": [
    {
      "cell_type": "markdown",
      "metadata": {
        "id": "view-in-github",
        "colab_type": "text"
      },
      "source": [
        "<a href=\"https://colab.research.google.com/github/madhu280419/Assignment_3/blob/main/4prog.ipynb\" target=\"_parent\"><img src=\"https://colab.research.google.com/assets/colab-badge.svg\" alt=\"Open In Colab\"/></a>"
      ]
    },
    {
      "cell_type": "code",
      "execution_count": null,
      "metadata": {
        "colab": {
          "base_uri": "https://localhost:8080/"
        },
        "id": "1nxJdg3XVHuQ",
        "outputId": "da5c51e1-8fad-4a86-82dc-9f31b8521672"
      },
      "outputs": [
        {
          "output_type": "stream",
          "name": "stdout",
          "text": [
            "It is a valid email.\n"
          ]
        }
      ],
      "source": [
        "email = \"test@example.com\"  # this is the email we are checking\n",
        "\n",
        "ends_with_com = False  # here we are assuming that the email doesn't end with \".com\"\n",
        "at_symbol = False  # We also assume thet there is no \"@\" symbol in the email\n",
        "\n",
        "# Loop runs through the email to check if it having '@' and ends with \".com\"\n",
        "for i in range(len(email)):\n",
        "    if email[i:] == \".com\" and \"@\" in email: #if it is having '@' and ends with \".com\"\n",
        "        ends_with_com = True  # then it will say true\n",
        "        at_symbol = True  # and then this say true\n",
        "        break  # then the loops will exit\n",
        "\n",
        "if ends_with_com and at_symbol:\n",
        "    print(\"It is a valid email.\")  # if the both conditions are true it will print - It is a valid email\n",
        "else:\n",
        "    print(\"It is not a valid email.\")  # if either one is false it will print - It is not a valid email\n",
        ""
      ]
    },
    {
      "cell_type": "code",
      "source": [],
      "metadata": {
        "id": "58Hs5eERI8Pb"
      },
      "execution_count": null,
      "outputs": []
    },
    {
      "cell_type": "code",
      "source": [
        "text = \"There are 24 apples and 12 apples\"  # Initialize a string variable 'text' with the given sentence.\n",
        "number = \"\"  # Initialize an empty string variable 'number' to store digits temporarily.\n",
        "for char in text:  # Iterate through each character in the 'text' string.\n",
        "    if '0' <= char <= '9':  # Check if the current character is a digit (between '0' and '9').\n",
        "        number += char  # If it's a digit, append it to the 'number' string.\n",
        "    else:  # If the character is not a digit.\n",
        "        if number != \"\":  # Check if the 'number' string is not empty (meaning we have accumulated digits).\n",
        "            print(number)  # If 'number' is not empty, print the accumulated digits.\n",
        "            number = \"\"  # Reset 'number' to an empty string to start accumulating a new number.\n",
        "if number != \"\":  # After the loop, check if there are any remaining digits in 'number' (if the text ends with a digit).\n",
        "    print(number)  # If 'number' is not empty, print the last accumulated digits."
      ],
      "metadata": {
        "colab": {
          "base_uri": "https://localhost:8080/"
        },
        "id": "JL94DweAVR5F",
        "outputId": "6c4f7db0-6a52-464d-84ec-75c22a106b3b"
      },
      "execution_count": 1,
      "outputs": [
        {
          "output_type": "stream",
          "name": "stdout",
          "text": [
            "24\n",
            "12\n"
          ]
        }
      ]
    },
    {
      "cell_type": "code",
      "source": [
        "def remove_spaces(a):\n",
        "    result = \"\"  # First we create a empty string to store the result\n",
        "    space_added = False  # From this we get to know if the space is added or not\n",
        "    for i in a:  # Loop runs each character in the input string a\n",
        "        if ord(i) == 32:  # Check if the character is a space (32 is the ASCII code for space)\n",
        "            if not space_added:  # if there no space added\n",
        "                result += \" \"  # it will add one space before letter in the result\n",
        "                space_added = True  # this line says that the space had been added\n",
        "            result += i  # if it is not a space the it will add the character to the result\n",
        "            space_added = False  # if the space is not there it add to result and sgain it will go to another one\n",
        "\n",
        "    return result.strip()  #  it will remove the starting and ending spaces\n",
        "\n",
        "a = input(\"enter a string\")  # Ask the user to input a string\n",
        "print(remove_spaces(a))  # here we are Calling the function with the input a"
      ],
      "metadata": {
        "colab": {
          "base_uri": "https://localhost:8080/"
        },
        "id": "0dqRbnsbkSdu",
        "outputId": "3b0488fd-9c5d-424b-c285-ddce063a3505"
      },
      "execution_count": 8,
      "outputs": [
        {
          "output_type": "stream",
          "name": "stdout",
          "text": [
            "enter a stringpython is     cool\n",
            "\n"
          ]
        }
      ]
    },
    {
      "cell_type": "code",
      "source": [
        "\n",
        "sentence = \"Today is Good Day\"\n",
        "#Split sentence into words\n",
        "words = sentence.split()\n",
        "#List to store capitalized words\n",
        "capital_words = []\n",
        "#Loop through each word\n",
        "for word in words:\n",
        "# Check if the first character's ASCII value is between 65 and 90 (A-Z)\n",
        "    if 65 <= ord(word[0]) <= 90:\n",
        "        capital_words.append(word)\n",
        "#Print the result\n",
        "print(capital_words)\n"
      ],
      "metadata": {
        "colab": {
          "base_uri": "https://localhost:8080/"
        },
        "id": "JZp6z9lIW8dD",
        "outputId": "b9695fb9-0659-4146-d901-029efe0d7db5"
      },
      "execution_count": 5,
      "outputs": [
        {
          "output_type": "stream",
          "name": "stdout",
          "text": [
            "['Today', 'Good', 'Day']\n"
          ]
        }
      ]
    },
    {
      "cell_type": "code",
      "source": [],
      "metadata": {
        "id": "sCZ0gVV4W_F3"
      },
      "execution_count": null,
      "outputs": []
    }
  ]
}