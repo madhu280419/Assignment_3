{
  "nbformat": 4,
  "nbformat_minor": 0,
  "metadata": {
    "colab": {
      "provenance": [],
      "authorship_tag": "ABX9TyPtOotoe6brzjk98iVV5xxN",
      "include_colab_link": true
    },
    "kernelspec": {
      "name": "python3",
      "display_name": "Python 3"
    },
    "language_info": {
      "name": "python"
    }
  },
  "cells": [
    {
      "cell_type": "markdown",
      "metadata": {
        "id": "view-in-github",
        "colab_type": "text"
      },
      "source": [
        "<a href=\"https://colab.research.google.com/github/madhu280419/Assignment_3/blob/main/mulplication.ipynb\" target=\"_parent\"><img src=\"https://colab.research.google.com/assets/colab-badge.svg\" alt=\"Open In Colab\"/></a>"
      ]
    },
    {
      "cell_type": "code",
      "execution_count": 4,
      "metadata": {
        "colab": {
          "base_uri": "https://localhost:8080/"
        },
        "id": "CyyFjvFc2mxE",
        "outputId": "c2fea760-cdc6-4bd1-f472-73350bf09a37"
      },
      "outputs": [
        {
          "output_type": "stream",
          "name": "stdout",
          "text": [
            "enter the number69\n",
            "69 x 1 = 69\n",
            "69 x 2 = 138\n",
            "69 x 3 = 207\n",
            "69 x 4 = 276\n",
            "69 x 5 = 345\n",
            "69 x 6 = 414\n",
            "69 x 7 = 483\n",
            "69 x 8 = 552\n",
            "69 x 9 = 621\n",
            "69 x 10 = 690\n"
          ]
        }
      ],
      "source": [
        "n = int(input(\"enter the number\"))\n",
        "for i in range(1,10+1):\n",
        "   print(n,\"x\",i,\"=\",n*i)"
      ]
    }
  ]
}